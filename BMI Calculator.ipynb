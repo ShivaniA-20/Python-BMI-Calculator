{
 "cells": [
  {
   "cell_type": "markdown",
   "id": "2c29f965-00e0-4842-99b4-9b282be3efcc",
   "metadata": {},
   "source": [
    "BMI CALCULATOR\n",
    "\n",
    "https://www.iciciprulife.com/tools-and-calculators/bmi-calculator.html\n"
   ]
  },
  {
   "cell_type": "code",
   "execution_count": null,
   "id": "2cc98420-2ca4-42b7-a8ee-36afccb8bfbc",
   "metadata": {},
   "outputs": [],
   "source": []
  },
  {
   "cell_type": "code",
   "execution_count": 31,
   "id": "d4623d46-5111-4d68-a5ea-c29113c40807",
   "metadata": {},
   "outputs": [
    {
     "name": "stdin",
     "output_type": "stream",
     "text": [
      "Enter your name:  Alex\n",
      "Enter your weight in KG:  74\n",
      "Enter your height in meters:  1.77\n"
     ]
    },
    {
     "name": "stdout",
     "output_type": "stream",
     "text": [
      "23.620287912158062\n"
     ]
    }
   ],
   "source": [
    "name = input(\"Enter your name: \")\n",
    "\n",
    "weight = int(input(\"Enter your weight in KG: \"))\n",
    "\n",
    "height = float(input(\"Enter your height in meters: \"))\n",
    "\n",
    "BMI = weight / (height * height)\n",
    "\n",
    "print(BMI)\n"
   ]
  },
  {
   "cell_type": "code",
   "execution_count": 5,
   "id": "95e3a46a-40d8-4269-a750-d84f1e225499",
   "metadata": {},
   "outputs": [
    {
     "name": "stdout",
     "output_type": "stream",
     "text": [
      "170\n"
     ]
    }
   ],
   "source": [
    "print(BMI)"
   ]
  },
  {
   "cell_type": "code",
   "execution_count": null,
   "id": "9eddab4b-ad5e-431c-a432-d808d4cbe9f4",
   "metadata": {},
   "outputs": [],
   "source": []
  },
  {
   "cell_type": "code",
   "execution_count": null,
   "id": "1052ec7f-d049-4676-9692-800ac722aa61",
   "metadata": {},
   "outputs": [],
   "source": []
  },
  {
   "cell_type": "code",
   "execution_count": null,
   "id": "098a371d-7680-4222-845a-d54f0654452f",
   "metadata": {},
   "outputs": [],
   "source": [
    "#BMI = weight (kg) ÷ (height (m))2"
   ]
  },
  {
   "cell_type": "code",
   "execution_count": null,
   "id": "2806790b-f332-4c6f-b9b8-624c46184388",
   "metadata": {},
   "outputs": [],
   "source": []
  },
  {
   "cell_type": "code",
   "execution_count": null,
   "id": "bf2ab6ca-2a1c-4f82-b9b9-6a634adeb3d6",
   "metadata": {},
   "outputs": [],
   "source": [
    "Below 18.5 Underweight\n",
    "18.5–24.9 Normal weight\n",
    "25–29.9 Overweight\n",
    "30–35 Obese\n",
    "Over 35 Morbid obesity"
   ]
  },
  {
   "cell_type": "code",
   "execution_count": 33,
   "id": "2e4fa847-17d4-40d5-a913-d4ab0bb48119",
   "metadata": {},
   "outputs": [
    {
     "name": "stdout",
     "output_type": "stream",
     "text": [
      "Alex , you are normal weight.\n"
     ]
    }
   ],
   "source": [
    "if BMI>0:\n",
    "    if(BMI<18.5):\n",
    "        print(name+\" , you are underweight.\")\n",
    "    elif(BMI<=24.9):\n",
    "        print(name+\" , you are normal weight.\")\n",
    "    elif(BMI<=29.9):\n",
    "        print(name+\" , you are overweight.\")\n",
    "    elif(BMI<35):\n",
    "        print(name+\" , you are obese.\")\n",
    "    elif(BMI>35):\n",
    "        print(name+\" , you are morbidly obese.\")\n",
    "    else:\n",
    "        print(\"Enter valid input\")\n"
   ]
  },
  {
   "cell_type": "code",
   "execution_count": null,
   "id": "5a994c25-c861-466d-8c2e-4d25feb0e18b",
   "metadata": {},
   "outputs": [],
   "source": []
  },
  {
   "cell_type": "code",
   "execution_count": null,
   "id": "bdbdcf0d-48e5-46fe-a44a-31b14d61c813",
   "metadata": {},
   "outputs": [],
   "source": []
  },
  {
   "cell_type": "code",
   "execution_count": null,
   "id": "c918c337-5a73-432b-8b97-edf31880cf28",
   "metadata": {},
   "outputs": [],
   "source": []
  },
  {
   "cell_type": "markdown",
   "id": "8b5a1ec0-95a4-4244-92e6-fb600bd9c3f9",
   "metadata": {},
   "source": [
    "FINAL BMI CALCULATOR"
   ]
  },
  {
   "cell_type": "code",
   "execution_count": null,
   "id": "34083464-d7a9-4750-8e7b-a233c2e964e0",
   "metadata": {},
   "outputs": [],
   "source": []
  },
  {
   "cell_type": "code",
   "execution_count": 35,
   "id": "7e05e08e-8562-4414-bf94-6dfa3c1c905c",
   "metadata": {},
   "outputs": [
    {
     "name": "stdin",
     "output_type": "stream",
     "text": [
      "Enter your name:  Harry\n",
      "Enter your weight in KG:  65\n",
      "Enter your height in meters:  1.51\n"
     ]
    },
    {
     "name": "stdout",
     "output_type": "stream",
     "text": [
      "28.507521599929827\n",
      "Harry , you are overweight.\n"
     ]
    }
   ],
   "source": [
    "name = input(\"Enter your name: \")\n",
    "\n",
    "weight = int(input(\"Enter your weight in KG: \"))\n",
    "\n",
    "height = float(input(\"Enter your height in meters: \"))\n",
    "\n",
    "BMI = weight / (height * height)\n",
    "\n",
    "print(BMI)\n",
    "\n",
    "\n",
    "\n",
    "if BMI>0:\n",
    "    if(BMI<18.5):\n",
    "        print(name+\" , you are underweight.\")\n",
    "    elif(BMI<=24.9):\n",
    "        print(name+\" , you are normal weight.\")\n",
    "    elif(BMI<=29.9):\n",
    "        print(name+\" , you are overweight.\")\n",
    "    elif(BMI<35):\n",
    "        print(name+\" , you are obese.\")\n",
    "    elif(BMI>35):\n",
    "        print(name+\" , you are morbidly obese.\")\n",
    "    else:\n",
    "        print(\"Enter valid input\")"
   ]
  },
  {
   "cell_type": "code",
   "execution_count": null,
   "id": "26bf0cb4-558a-4348-b03b-5beb65f7f184",
   "metadata": {},
   "outputs": [],
   "source": []
  }
 ],
 "metadata": {
  "kernelspec": {
   "display_name": "Python 3 (ipykernel)",
   "language": "python",
   "name": "python3"
  },
  "language_info": {
   "codemirror_mode": {
    "name": "ipython",
    "version": 3
   },
   "file_extension": ".py",
   "mimetype": "text/x-python",
   "name": "python",
   "nbconvert_exporter": "python",
   "pygments_lexer": "ipython3",
   "version": "3.12.7"
  }
 },
 "nbformat": 4,
 "nbformat_minor": 5
}
